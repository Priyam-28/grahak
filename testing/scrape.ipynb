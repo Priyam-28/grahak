{
 "cells": [
  {
   "cell_type": "code",
   "execution_count": null,
   "id": "7fccfe02",
   "metadata": {},
   "outputs": [],
   "source": [
    "! pip install --upgrade firecrawl-py langchain-community"
   ]
  },
  {
   "cell_type": "code",
   "execution_count": null,
   "id": "607c2738",
   "metadata": {},
   "outputs": [
    {
     "name": "stdout",
     "output_type": "stream",
     "text": [
      "{'company_mission': 'Power your AI apps with clean data crawled from any website.', 'supports_sso': False, 'is_open_source': True, 'is_in_yc': True}\n"
     ]
    }
   ],
   "source": [
    "from firecrawl import JsonConfig, FirecrawlApp\n",
    "from pydantic import BaseModel\n",
    "app = FirecrawlApp(api_key=\"\")\n",
    "\n",
    "class ExtractSchema(BaseModel):\n",
    "    company_mission: str\n",
    "    supports_sso: bool\n",
    "    is_open_source: bool\n",
    "    is_in_yc: bool\n",
    "\n",
    "json_config = JsonConfig(\n",
    "    schema=ExtractSchema\n",
    ")\n",
    "\n",
    "llm_extraction_result = app.scrape_url(\n",
    "    'https://www.amazon.in/s?k=t+-shirts',\n",
    "    formats=[\"json\"],\n",
    "    json_options=json_config,\n",
    "    only_main_content=False,\n",
    "    timeout=120000\n",
    ")\n",
    "\n",
    "print(llm_extraction_result.json)"
   ]
  }
 ],
 "metadata": {
  "kernelspec": {
   "display_name": "Python 3",
   "language": "python",
   "name": "python3"
  },
  "language_info": {
   "codemirror_mode": {
    "name": "ipython",
    "version": 3
   },
   "file_extension": ".py",
   "mimetype": "text/x-python",
   "name": "python",
   "nbconvert_exporter": "python",
   "pygments_lexer": "ipython3",
   "version": "3.12.5"
  }
 },
 "nbformat": 4,
 "nbformat_minor": 5
}
